{
 "cells": [
  {
   "cell_type": "markdown",
   "id": "flexible-driver",
   "metadata": {},
   "source": [
    "### Prep Script"
   ]
  },
  {
   "cell_type": "code",
   "execution_count": null,
   "id": "interpreted-bobby",
   "metadata": {},
   "outputs": [],
   "source": [
    "!pip install wget\n",
    "!pip install resources\n",
    "!pip install tensorflow==2.2.0rc0"
   ]
  }
 ],
 "metadata": {
  "kernelspec": {
   "display_name": "Python 3",
   "language": "python",
   "name": "python3"
  },
  "language_info": {
   "codemirror_mode": {
    "name": "ipython",
    "version": 3
   },
   "file_extension": ".py",
   "mimetype": "text/x-python",
   "name": "python",
   "nbconvert_exporter": "python",
   "pygments_lexer": "ipython3",
   "version": "3.7.9"
  }
 },
 "nbformat": 4,
 "nbformat_minor": 5
}
