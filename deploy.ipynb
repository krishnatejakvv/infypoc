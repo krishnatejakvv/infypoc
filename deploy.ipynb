{
 "cells": [
  {
   "cell_type": "code",
   "execution_count": 1,
   "id": "subjective-symphony",
   "metadata": {},
   "outputs": [],
   "source": [
    "import tensorflow as tf\n",
    "from keras.models import load_model"
   ]
  },
  {
   "cell_type": "code",
   "execution_count": 2,
   "id": "small-cambodia",
   "metadata": {},
   "outputs": [],
   "source": [
    "model = load_model('models/k_model.h5')"
   ]
  },
  {
   "cell_type": "code",
   "execution_count": 6,
   "id": "linear-michigan",
   "metadata": {},
   "outputs": [
    {
     "data": {
      "text/plain": [
       "<tf.Tensor: shape=(10, 3), dtype=float32, numpy=\n",
       "array([[0.4617741 , 0.4557879 , 0.29933214],\n",
       "       [0.49663603, 0.09965134, 0.09726703],\n",
       "       [0.65865564, 0.9167193 , 0.66764414],\n",
       "       [0.38251436, 0.3319497 , 0.236992  ],\n",
       "       [0.7604548 , 0.34395826, 0.11782885],\n",
       "       [0.802966  , 0.26391804, 0.8352463 ],\n",
       "       [0.3559941 , 0.8213271 , 0.7304896 ],\n",
       "       [0.70803595, 0.81483865, 0.70049715],\n",
       "       [0.04108143, 0.7574799 , 0.3691988 ],\n",
       "       [0.26809824, 0.64611804, 0.81491566]], dtype=float32)>"
      ]
     },
     "execution_count": 6,
     "metadata": {},
     "output_type": "execute_result"
    }
   ],
   "source": [
    "x = tf.random.uniform((10, 3))\n",
    "x"
   ]
  },
  {
   "cell_type": "code",
   "execution_count": null,
   "id": "adapted-jason",
   "metadata": {},
   "outputs": [],
   "source": [
    "assert np.allclose(model.predict(x), loaded_model.predict(x))"
   ]
  },
  {
   "cell_type": "markdown",
   "id": "agricultural-slope",
   "metadata": {},
   "source": [
    "import tensorflow as tf\n",
    "if not tf.__version__ == '2.2.0-rc0':\n",
    "    print(tf.__version__)\n",
    "    raise ValueError('please upgrade to TensorFlow 2.2.0-rc0, or restart your Kernel (Kernel->Restart & Clear Output)')"
   ]
  },
  {
   "cell_type": "markdown",
   "id": "recorded-helen",
   "metadata": {},
   "source": [
    "!pip install tensorflow==2.2.0rc0"
   ]
  }
 ],
 "metadata": {
  "kernelspec": {
   "display_name": "Python 3",
   "language": "python",
   "name": "python3"
  },
  "language_info": {
   "codemirror_mode": {
    "name": "ipython",
    "version": 3
   },
   "file_extension": ".py",
   "mimetype": "text/x-python",
   "name": "python",
   "nbconvert_exporter": "python",
   "pygments_lexer": "ipython3",
   "version": "3.7.9"
  }
 },
 "nbformat": 4,
 "nbformat_minor": 5
}
